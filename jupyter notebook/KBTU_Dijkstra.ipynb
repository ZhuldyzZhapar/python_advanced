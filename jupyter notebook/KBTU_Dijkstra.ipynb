{
 "cells": [
  {
   "cell_type": "code",
   "execution_count": 51,
   "metadata": {},
   "outputs": [
    {
     "name": "stdout",
     "output_type": "stream",
     "text": [
      "[[ 0.  0.  0.  0.  0.  0.  0.  0.  0.  0.  0.]\n",
      " [ 0.  3.  2.  0. 20. 19. 18. 19. 20.  0.  0.]\n",
      " [ 0.  2.  1.  0. 19. 18. 17.  0.  0.  0.  0.]\n",
      " [ 0.  3.  2.  0.  0.  0. 16. 15.  0.  0.  0.]\n",
      " [ 0.  4.  3.  4.  5.  6.  0. 14.  0.  0.  0.]\n",
      " [ 0.  5.  4.  5.  0.  7.  0. 13.  0.  0.  0.]\n",
      " [ 0.  6.  5.  6.  0.  8.  0. 12.  0.  0.  0.]\n",
      " [ 0.  7.  6.  7.  0.  9. 10. 11.  0.  0.  0.]\n",
      " [ 0.  0.  0.  0.  0.  0.  0.  0.  0.  0.  0.]]\n"
     ]
    },
    {
     "data": {
      "image/png": "[encoded data removed]",
      "text/plain": [
       "<Figure size 432x288 with 1 Axes>"
      ]
     },
     "metadata": {
      "needs_background": "light"
     },
     "output_type": "display_data"
    }
   ],
   "source": [
    "import numpy as np\n",
    "import matplotlib.pyplot as plt\n",
    "maze = np.array([\n",
    "    [1,1,1,1,3,1,1,1,1,1,1],\n",
    "    [1,0,0,1,0,0,1,0,1,0,1],\n",
    "    [1,0,2,1,0,0,0,0,1,0,1],\n",
    "    [1,0,0,1,1,1,1,0,1,0,1],\n",
    "    [1,0,0,0,0,0,1,0,0,0,1],\n",
    "    [1,0,0,0,0,0,1,0,0,0,1],\n",
    "    [1,0,0,0,0,0,0,0,0,0,1],\n",
    "    [1,0,0,0,0,0,0,0,0,0,1],\n",
    "    [1,1,1,1,1,1,1,1,1,1,1],    \n",
    "])\n",
    "maze = np.array([\n",
    "    [1,1,1,1,1,1,1,1,1,1,1],\n",
    "    [1,0,0,1,0,0,0,0,3,0,1],\n",
    "    [1,0,2,1,0,0,0,1,1,0,1],\n",
    "    [1,0,0,1,1,1,0,0,1,0,1],\n",
    "    [1,0,0,0,0,0,1,0,1,0,1],\n",
    "    [1,0,0,0,1,0,1,0,1,0,1],\n",
    "    [1,0,0,0,1,0,1,0,1,0,1],\n",
    "    [1,0,0,0,1,0,0,0,1,0,1],\n",
    "    [1,1,1,1,1,1,1,1,1,1,1],    \n",
    "])\n",
    "\n",
    "def fill(path, maze, k):\n",
    "    # find k in the path, put k+1 around if there is no wall\n",
    "    change = False\n",
    "    for i in range(len(path)):\n",
    "        for j in range(len(path[i])):\n",
    "            if path[i][j] == k:\n",
    "                if i>0 and maze[i-1][j]!=1 and path[i-1][j]==0:\n",
    "                    path[i-1][j]=k+1\n",
    "                    change = True\n",
    "                if i<len(path)-1 and maze[i+1][j]!=1 and path[i+1][j]==0:\n",
    "                    path[i+1][j]=k+1\n",
    "                    change = True\n",
    "                if j>0 and maze[i][j-1]!=1 and path[i][j-1]==0:\n",
    "                    path[i][j-1]=k+1\n",
    "                    change = True\n",
    "                if j<len(path[i])-1 and maze[i][j+1]!=1 and path[i][j+1]==0:\n",
    "                    path[i][j+1]=k+1\n",
    "                    change = True       \n",
    "    return change\n",
    "\n",
    "path = np.zeros((len(maze),len(maze[0])))\n",
    "for i in range(len(maze)):\n",
    "    for j in range(len(maze[i])):\n",
    "        if maze[i][j] == 2:\n",
    "            sx,sy = i,j\n",
    "        if maze[i][j] == 3:\n",
    "            ex,ey = i,j\n",
    "            \n",
    "path[sx,sy] = 1\n",
    "k = 1\n",
    "while fill(path,maze,k) and path[ex][ey]==0:\n",
    "    k+=1\n",
    "    \n",
    "if path[ex][ey]!=0:\n",
    "    maze[ex][ey] = 4\n",
    "    while path[ex][ey]!=1:\n",
    "        if ex>0 and path[ex-1][ey] == path[ex][ey]-1:\n",
    "            ex -= 1\n",
    "        elif ex<len(path) and path[ex+1][ey] == path[ex][ey]-1:\n",
    "            ex += 1\n",
    "        elif ey>0 and path[ex][ey-1] == path[ex][ey]-1:\n",
    "            ey -= 1\n",
    "        elif ey<len(path[ex]) and path[ex][ey+1] == path[ex][ey]-1:\n",
    "            ey += 1    \n",
    "        maze[ex][ey] = 4\n",
    "        \n",
    "print(path)\n",
    "plt.imshow(maze)\n",
    "plt.show()"
   ]
  },
  {
   "cell_type": "code",
   "execution_count": null,
   "metadata": {},
   "outputs": [],
   "source": []
  }
 ],
 "metadata": {
  "kernelspec": {
   "display_name": "Python 3",
   "language": "python",
   "name": "python3"
  },
  "language_info": {
   "codemirror_mode": {
    "name": "ipython",
    "version": 3
   },
   "file_extension": ".py",
   "mimetype": "text/x-python",
   "name": "python",
   "nbconvert_exporter": "python",
   "pygments_lexer": "ipython3",
   "version": "3.7.6"
  }
 },
 "nbformat": 4,
 "nbformat_minor": 4
}
